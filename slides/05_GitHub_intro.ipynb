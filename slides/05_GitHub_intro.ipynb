{
 "cells": [
  {
   "cell_type": "markdown",
   "metadata": {
    "slideshow": {
     "slide_type": "slide"
    }
   },
   "source": [
    "# DSCI 100 - Introduction to Data Science\n",
    "\n",
    "\n",
    "## Lecture 5 - Introduction to version control using GitHub\n",
    "\n",
    "\n",
    "### 2019-01-31"
   ]
  },
  {
   "cell_type": "markdown",
   "metadata": {
    "slideshow": {
     "slide_type": "slide"
    }
   },
   "source": [
    "## What is version control?\n",
    "\n",
    "A tool/method to keep track of document versions and work collaboratively with others! "
   ]
  },
  {
   "cell_type": "markdown",
   "metadata": {
    "slideshow": {
     "slide_type": "slide"
    }
   },
   "source": [
    "## You've probably already used version control\n",
    "\n",
    "<img src=\"http://www.geekyedge.com/wp-content/uploads/2015/08/Dropbox-to-Google-Drive.jpg\" width=\"500\" />"
   ]
  },
  {
   "cell_type": "markdown",
   "metadata": {
    "slideshow": {
     "slide_type": "slide"
    }
   },
   "source": [
    "## You've probably already used version control\n",
    "\n",
    "<img align=\"left\" src=\"http://www.phdcomics.com/comics/archive/phd101212s.gif\" width=\"500\" />"
   ]
  },
  {
   "cell_type": "markdown",
   "metadata": {
    "slideshow": {
     "slide_type": "slide"
    }
   },
   "source": [
    "## Reasons to learn another tool for version control (GitHub)"
   ]
  },
  {
   "cell_type": "markdown",
   "metadata": {
    "slideshow": {
     "slide_type": "fragment"
    }
   },
   "source": [
    "- designed for versioning and sharing code "
   ]
  },
  {
   "cell_type": "markdown",
   "metadata": {
    "slideshow": {
     "slide_type": "fragment"
    }
   },
   "source": [
    "- can be used to host/build websites/blogs"
   ]
  },
  {
   "cell_type": "markdown",
   "metadata": {
    "slideshow": {
     "slide_type": "slide"
    }
   },
   "source": [
    "## 1. Sign-up for a GitHub account and share your Github username with us:\n",
    "\n",
    "Please visit https://github.com/ and sign-up for a free account (if you don't already have one). And then share your GitHub username with us so that we can get you set up for the group project for this course: https://canvas.ubc.ca/courses/19078/modules/items/1030189 "
   ]
  },
  {
   "cell_type": "markdown",
   "metadata": {
    "slideshow": {
     "slide_type": "slide"
    }
   },
   "source": [
    "## 2. Create a GitHub repository\n",
    "\n",
    "- Let's work through a demo together where we create and edit a repository for a fictionary Data Science project we are going to create. \n",
    "\n",
    "- **Work in groups of 2** (to help each other out and for the collaboration exercise coming later in the lecture...).\n"
   ]
  },
  {
   "cell_type": "markdown",
   "metadata": {
    "slideshow": {
     "slide_type": "slide"
    }
   },
   "source": [
    "### Steps to follow:\n",
    "\n",
    "One one person's laptop:\n",
    "\n",
    "1. Go to https://github.com and make sure you are logged in.\n",
    "\n",
    "2. Click green “New repository” button. Or, if you are on your own profile page, click on “Repositories”, then click the green “New” button.\n",
    "\n",
    "3. Choose/set:\n",
    "- Repository name: exampleDataProject (or whatever you wish)\n",
    "- Public\n",
    "- YES Initialize this repository with a README\n",
    "\n",
    "4. Click big green button “Create repository.”\n",
    "\n",
    "5. On GitHub, click the settings button on the right and select Collaborators (top left). Enter your partner's GitHub username (they will get an email invitation to access and edit the repository).\n",
    "\n",
    "5. That's it! You now have a new repository on GitHub that you two can work together on!"
   ]
  },
  {
   "cell_type": "markdown",
   "metadata": {
    "slideshow": {
     "slide_type": "slide"
    }
   },
   "source": [
    "## 3. Editing files directly on GitHub\n",
    "\n",
    "There are two ways to make changes to your files:\n",
    "\n",
    "1. Edit files directly on Github (good for text files)\n",
    "2. Make changes on files that live on a computer (e.g., the server you are working on) and then \"push\" the changes back to Github (good for code files)\n",
    " \n",
    "We will try out method 1 today, Tuesday you will learn method 2."
   ]
  },
  {
   "cell_type": "markdown",
   "metadata": {
    "slideshow": {
     "slide_type": "slide"
    }
   },
   "source": [
    "Let's edit a file called `README.md` that contains some information about a fictionary Data Science project we are going to create.\n",
    "\n",
    "### Steps to follow: \n",
    "\n",
    "*in your groups, do this one person at a time...*\n",
    "\n",
    "1. Click on the `README.md` file link\n",
    "\n",
    "2. Click on the pen tool (right-hand side of document)\n",
    "\n",
    "3. Add your name as the author to the document (e.g., \"author: Tiffany Timbers\")\n",
    "\n",
    "4. Click on the big green button \"Commit changes\" to save your work "
   ]
  },
  {
   "cell_type": "markdown",
   "metadata": {
    "slideshow": {
     "slide_type": "slide"
    }
   },
   "source": [
    "## 4. Getting a GitHub repository onto your computer\n",
    "\n",
    "You need to do two things:\n",
    "1. Introduce yourself to Git on the computer (already installed on the server)\n",
    "2. Clone (think download) the repository onto the computer (here server)\n",
    "\n",
    "*What is Git? Git is the software on a computer that talks to GitHub.*"
   ]
  },
  {
   "cell_type": "markdown",
   "metadata": {
    "slideshow": {
     "slide_type": "slide"
    }
   },
   "source": [
    "## 4.1 Introduce yourself to Git\n",
    "\n",
    "*only need to do this once on your computer/server*\n",
    "\n",
    "1. Open a terminal from the JupyterHub Home/Control Panel (New > Terminal)\n",
    "2. Type the following to tell Git about yourself (change your name and email to your own):\n",
    "\n",
    "```\n",
    "git config --global user.name 'Tiffany Timbers'\n",
    "git config --global user.email 'tiffany.timbers@stat.ubc.ca'\n",
    "```\n",
    "\n",
    "3. Check that you didn't make a typo (if you did then just repeat the commands above):\n",
    "\n",
    "```\n",
    "git config --global --list\n",
    "```"
   ]
  },
  {
   "cell_type": "markdown",
   "metadata": {
    "slideshow": {
     "slide_type": "slide"
    }
   },
   "source": [
    "## 4.2 Clone (think download) the repository onto the computer \n",
    "\n",
    "1. Visit your repository on GitHub.com\n",
    "2. Click on the green \"Clone or download\" button (make sure the pop-up says \"Clone with HTTPS\")\n",
    "3. copy the URL to the clipboard\n",
    "4. Go back to the terminal and type `git clone` and paste the URL and press enter:\n",
    "```\n",
    "git clone https://github.com/github_username/repository_name.git\n",
    "```\n"
   ]
  },
  {
   "cell_type": "markdown",
   "metadata": {
    "slideshow": {
     "slide_type": "slide"
    }
   },
   "source": [
    "## 5. Add a Jupyter notebook to GitHub\n",
    "\n",
    "Two big steps:\n",
    "1. Create (or copy) a Jupyter notebook into the GitHub repository you cloned to your computer (using JupyterHub's Home/Control Panel)\n",
    "2. Use the terminal to tell Git to send the changes to GitHub"
   ]
  },
  {
   "cell_type": "markdown",
   "metadata": {
    "slideshow": {
     "slide_type": "slide"
    }
   },
   "source": [
    "## 5.1 Add a Jupyter notebook to the GitHub repository on the computer\n",
    "\n",
    "1. Go to JupyterHub's Home/Control Panel\n",
    "2. Navigate inside the GitHub repository you cloned (downloaded) by click on it\n",
    "3. Create a new Notebook (New > R) there. Give it a name and add a code or Markdown cell to it"
   ]
  },
  {
   "cell_type": "markdown",
   "metadata": {
    "slideshow": {
     "slide_type": "slide"
    }
   },
   "source": [
    "## 5. 2 Use the terminal to tell Git to send the changes to GitHub\n",
    "\n",
    "But first, some useful unix shell commands for navigating and manipulating the filesystem:\n",
    "\n",
    "| Command | Purpose | Example use |\n",
    "|---------|---------|---------|\n",
    "| `pwd` | Prints current working directory | `pwd` |\n",
    "| `ls` | List contents | `ls Documents` |\n",
    "| `cd` | Change directory | `cd Desktop` |"
   ]
  },
  {
   "cell_type": "markdown",
   "metadata": {},
   "source": [
    "### In class activities\n",
    "\n",
    "0. Discuss/brainstorm what are the 3 things you do/think about (as a human) when you navigate your computer's filesystem using Finder, Explorer, Nautilus, etc)\n",
    "1. Instructor - Demo using unix to navigate filesystem\n",
    "2. Students - use command line to:\n",
    "    a. figure out where you are when you open your command line\n",
    "    b. navigate to your Documents folder\n",
    "    c. navigate from your Documents folder to your Desktop"
   ]
  },
  {
   "cell_type": "markdown",
   "metadata": {
    "slideshow": {
     "slide_type": "slide"
    }
   },
   "source": [
    "## 5. 2 Use the terminal to tell Git to send the changes to GitHub\n",
    "\n",
    "1. Go back to the JupyterHub Terminal\n",
    "2. Type `ls` to see all the files and directories there \n",
    "3. Type `cd REPOSITORY_NAME` to navigate into that repository (type `pwd` to see you are where you expect to be)\n",
    "4. Type `git add NOTEBOOK.ipynb` (change `NOTEBOOK.ipynb` to the name of the file you created\n",
    "5. Type `git commit -m \"added a notebook\"\n",
    "6. Type `git push` to send the notebook to GitHub\n",
    "7. Visit your repository on GitHub.com to see that the notebook made it there!"
   ]
  },
  {
   "cell_type": "markdown",
   "metadata": {},
   "source": [
    "## Attribution \n",
    "1. [Happy Git and GitHub for the useR by Jenny Bryan and the STAT 545 TAs](http://happygitwithr.com/)\n",
    "2. [Software Carpentry](https://software-carpentry.org/), specifically the Unix Shell and Git lessons"
   ]
  }
 ],
 "metadata": {
  "anaconda-cloud": {},
  "celltoolbar": "Slideshow",
  "kernelspec": {
   "display_name": "Python 3",
   "language": "python",
   "name": "python3"
  },
  "language_info": {
   "codemirror_mode": {
    "name": "ipython",
    "version": 3
   },
   "file_extension": ".py",
   "mimetype": "text/x-python",
   "name": "python",
   "nbconvert_exporter": "python",
   "pygments_lexer": "ipython3",
   "version": "3.6.5"
  }
 },
 "nbformat": 4,
 "nbformat_minor": 1
}
