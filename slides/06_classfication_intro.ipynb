{
 "cells": [
  {
   "cell_type": "markdown",
   "metadata": {
    "slideshow": {
     "slide_type": "slide"
    }
   },
   "source": [
    "## DSCI 100 - Introduction to Data Science\n",
    "\n",
    "\n",
    "### Lecture 6 - Classification, an introduction using k-nearest neighbours\n",
    "\n",
    "\n",
    "#### 2019-02-07"
   ]
  },
  {
   "cell_type": "markdown",
   "metadata": {
    "slideshow": {
     "slide_type": "slide"
    }
   },
   "source": [
    "### First, a little housekeeping\n",
    "\n",
    "<img align=\"left\" src=\"https://media.giphy.com/media/3o7TKU8RvQuomFfUUU/giphy.gif\" width=\"500\" />"
   ]
  },
  {
   "cell_type": "markdown",
   "metadata": {
    "slideshow": {
     "slide_type": "skip"
    }
   },
   "source": [
    "source: https://giphy.com/gifs/hollywoodsuite-robin-williams-mrs-doubtfire-3o7TKU8RvQuomFfUUU"
   ]
  },
  {
   "cell_type": "markdown",
   "metadata": {
    "slideshow": {
     "slide_type": "slide"
    }
   },
   "source": [
    "1. Quiz grading will be finished Monday."
   ]
  },
  {
   "cell_type": "markdown",
   "metadata": {
    "slideshow": {
     "slide_type": "fragment"
    }
   },
   "source": [
    "2. Feedback forms will now be returned to you on the server where you do your homework. At some point today in your home you will see a `feedback` folder. We will put all the forms there. "
   ]
  },
  {
   "cell_type": "markdown",
   "metadata": {
    "slideshow": {
     "slide_type": "fragment"
    }
   },
   "source": [
    "3. Please fill out the mid-course survey (and if you already have THANK-YOU)!"
   ]
  },
  {
   "cell_type": "markdown",
   "metadata": {
    "slideshow": {
     "slide_type": "fragment"
    }
   },
   "source": [
    "4. Assignment to groups for group project has been done (see Canvas), and all have been given a private GitHub repository"
   ]
  },
  {
   "cell_type": "markdown",
   "metadata": {
    "slideshow": {
     "slide_type": "slide"
    }
   },
   "source": [
    "### Reminder  \n",
    "\n",
    "Where are we? Where are we going?\n",
    "\n",
    "![](https://d33wubrfki0l68.cloudfront.net/571b056757d68e6df81a3e3853f54d3c76ad6efc/32d37/diagrams/data-science.png)\n",
    "\n",
    "*image source: [R for Data Science](https://r4ds.had.co.nz/) by Grolemund & Wickham*"
   ]
  },
  {
   "cell_type": "markdown",
   "metadata": {
    "slideshow": {
     "slide_type": "slide"
    }
   },
   "source": [
    "## Classification problem\n",
    "\n",
    "Can we use data we have seen in the past, to predict something about the future? \n",
    "\n",
    "<img align=\"left\" src=\"https://ubc-dsci.github.io/introduction-to-datascience/bookdown-demo_files/figure-html/unnamed-chunk-4-1.png\" width=\"500\"/>\n"
   ]
  },
  {
   "cell_type": "markdown",
   "metadata": {
    "slideshow": {
     "slide_type": "fragment"
    }
   },
   "source": [
    "For example, the diagnosis class of tumour cells with Concavity = 2 and Perimeter = 2?"
   ]
  },
  {
   "cell_type": "markdown",
   "metadata": {
    "slideshow": {
     "slide_type": "slide"
    }
   },
   "source": [
    "## K-nearest neighbours classification algorithm\n",
    "\n",
    "In order to classify a new observation using a k-nearest neighbor classifier, we have to do the follow steps:"
   ]
  },
  {
   "cell_type": "markdown",
   "metadata": {
    "slideshow": {
     "slide_type": "fragment"
    }
   },
   "source": [
    "1. Compute the distance between the new observation and each observation in our training set"
   ]
  },
  {
   "cell_type": "markdown",
   "metadata": {
    "slideshow": {
     "slide_type": "fragment"
    }
   },
   "source": [
    "2. Sort the data table in ascending order according to the distances."
   ]
  },
  {
   "cell_type": "markdown",
   "metadata": {
    "slideshow": {
     "slide_type": "fragment"
    }
   },
   "source": [
    "3. Choose the top $k$ rows of the sorted table."
   ]
  },
  {
   "cell_type": "markdown",
   "metadata": {
    "slideshow": {
     "slide_type": "fragment"
    }
   },
   "source": [
    "4. Classify the new observation based on majority vote."
   ]
  },
  {
   "cell_type": "markdown",
   "metadata": {
    "slideshow": {
     "slide_type": "slide"
    }
   },
   "source": [
    "## Classification problem\n",
    "\n",
    "How is this problem represented as a data table in R?\n",
    "\n",
    "<img align=\"left\" src=\"https://ubc-dsci.github.io/introduction-to-datascience/bookdown-demo_files/figure-html/unnamed-chunk-4-1.png\" width=\"500\"/>\n"
   ]
  },
  {
   "attachments": {},
   "cell_type": "markdown",
   "metadata": {
    "slideshow": {
     "slide_type": "slide"
    }
   },
   "source": [
    "## Data table for example above\n",
    "\n",
    "| $Y$  = diagnosis | $X_1$ = Concavity | $X_2$ = Perimeter |\n",
    "|------------------|-------------------|-------------------|\n",
    "| M | 2.1 | 2.3 |\n",
    "| M | -0.1 | 1.5 |\n",
    "| B | -0.2 | -0.2 |\n",
    "| ... | ... | ... |\n",
    "\n",
    "\n",
    "Where:\n",
    "- $Y$ is our class label/target/outcome/response variable\n",
    "- the $X$'s are our predictors/features/attributes/explanatory variables, and we have 2 of these\n",
    "- we have 569 observations (sets of measurements about tumour cells)"
   ]
  },
  {
   "cell_type": "markdown",
   "metadata": {
    "slideshow": {
     "slide_type": "slide"
    }
   },
   "source": [
    "## We can go beyond 2 predictors\n",
    "\n",
    "https://ubc-dsci.github.io/introduction-to-datascience/classification.html#more-than-two-explanatory-variablespredictors"
   ]
  },
  {
   "cell_type": "markdown",
   "metadata": {},
   "source": [
    "## Data table for example above\n",
    "\n",
    "| $Y$  = diagnosis | $X_1$ = Concavity | $X_2$ = Perimeter |  $X_3$ = Symmetry |\n",
    "|------------------|-------------------|-------------------|-------------------|\n",
    "| M | 2.1 | 2.3 | 2.7 |\n",
    "| M | -0.1 | 1.5 | -0.2 |\n",
    "| B | -0.2 | -0.2 | 0.12 |\n",
    "| ... | ... | ... |\n",
    "\n",
    "\n",
    "Where:\n",
    "- $Y$ is our class label/target/outcome/response variable\n",
    "- the $X$'s are our predictors/features/attributes/explanatory variables, and we have 2 of these\n",
    "- we have 569 observations (sets of measurements about tumour cells)"
   ]
  },
  {
   "cell_type": "markdown",
   "metadata": {
    "slideshow": {
     "slide_type": "slide"
    }
   },
   "source": [
    "## Classification data table (general)\n",
    "\n",
    "What does our general data table look like in the classification setting?\n",
    "\n",
    "| $Y$   | $X_1$ | $X_2$ | $X_3$ | ... | $X_p$|\n",
    "|-------|-------|-------|-------|-----|------|\n",
    "| $y_1$ |$x_{1,1}$ | $x_{1,2}$ | $x_{1,3}$ | ... | $x_{1,p}$ |\n",
    "| $y_2$ |$x_{2,1}$ | $x_{2,2}$ | $x_{2,3}$ | ... | $x_{2,p}$ |\n",
    "| ... |... | ... | ... | ... | ... |\n",
    "| $y_n$ |$x_{n,1}$ | $x_{n,2}$ | $x_{n,3}$ | ... | $x_{n,p}$ |\n",
    "\n",
    "Where:\n",
    "- $Y$ is our class label/target/outcome/response variable\n",
    "- the $X$'s are our predictors/features/attributes/explanatory variables, and we have $p$ of these\n",
    "- we have $n$ observations"
   ]
  },
  {
   "cell_type": "markdown",
   "metadata": {
    "slideshow": {
     "slide_type": "slide"
    }
   },
   "source": [
    "## Introduction to `caret` package in R\n",
    "\n",
    "Steps to doing k-nn with `caret` in R:"
   ]
  },
  {
   "cell_type": "markdown",
   "metadata": {
    "slideshow": {
     "slide_type": "fragment"
    }
   },
   "source": [
    "1. Split your data table of training data into $Y$ (make this a vector) and $X$'s (make this a `data.frame` not a `tibble`)"
   ]
  },
  {
   "cell_type": "markdown",
   "metadata": {
    "slideshow": {
     "slide_type": "fragment"
    }
   },
   "source": [
    "2. \"Fit\" your model to the data by:\n",
    "  - choose $k$ and create a `data.frame` with one column (named `k`) and one value (your choice for $k$)\n",
    "  - use `train` and feed it $X$, $Y$, the method (\"knn\"), and $k$"
   ]
  },
  {
   "cell_type": "markdown",
   "metadata": {
    "slideshow": {
     "slide_type": "fragment"
    }
   },
   "source": [
    "3. Predict $\\hat{Y}$ using your model by using `predict` and passing it your model object and the new observation (as a `data.frame`)"
   ]
  },
  {
   "cell_type": "markdown",
   "metadata": {
    "slideshow": {
     "slide_type": "slide"
    }
   },
   "source": [
    "### Code example:\n",
    "\n",
    "1. Split your data table of training data into $Y$ and $X$'s\n",
    "\n",
    "\n",
    "```\n",
    "cancer_train <- cancer %>%\n",
    "  select(\"Perimeter\", \"Concavity\")\n",
    "\n",
    "cancer_labels <- cancer %>% \n",
    "  select(Class) %>% \n",
    "  unlist()\n",
    "\n",
    "```"
   ]
  },
  {
   "cell_type": "markdown",
   "metadata": {
    "slideshow": {
     "slide_type": "slide"
    }
   },
   "source": [
    "\n",
    "2. \"Fit\" your model to the data:\n",
    "\n",
    "```\n",
    "k <- data.frame(k = 5)\n",
    "model_knn <- train(x = data.frame(cancer_train), y = cancer_labels, method='knn', tuneGrid = k)\n",
    "```\n"
   ]
  },
  {
   "cell_type": "markdown",
   "metadata": {
    "slideshow": {
     "slide_type": "slide"
    }
   },
   "source": [
    "3. Predict $\\hat{Y}$ using your model\n",
    "\n",
    "\n",
    "\n",
    "```\n",
    "new_obs <- data.frame(Perimeter = -1, Concavity = 4.2)\n",
    "predict(object=model_knn, new_obs)\n",
    "```"
   ]
  },
  {
   "cell_type": "markdown",
   "metadata": {
    "slideshow": {
     "slide_type": "slide"
    }
   },
   "source": [
    "## Unanswered questions at this point:\n",
    "\n",
    "1. How do we choose `k`? (answer coming next week...)"
   ]
  },
  {
   "cell_type": "markdown",
   "metadata": {
    "slideshow": {
     "slide_type": "fragment"
    }
   },
   "source": [
    "2. Is our model any good? "
   ]
  },
  {
   "cell_type": "markdown",
   "metadata": {
    "slideshow": {
     "slide_type": "fragment"
    }
   },
   "source": [
    "*\"All models are wrong, but some are useful\"*\n",
    "        -- George Box"
   ]
  },
  {
   "cell_type": "markdown",
   "metadata": {
    "slideshow": {
     "slide_type": "fragment"
    }
   },
   "source": [
    "... but we should try to say how useful (more coming next week...)"
   ]
  },
  {
   "cell_type": "markdown",
   "metadata": {
    "slideshow": {
     "slide_type": "slide"
    }
   },
   "source": [
    "## Go forth and ... model?\n",
    "\n",
    "<img align=\"left\" src=\"https://media.giphy.com/media/SJOEsdVR1Zha8/giphy.gif\" width=\"300\" />"
   ]
  },
  {
   "cell_type": "markdown",
   "metadata": {
    "slideshow": {
     "slide_type": "skip"
    }
   },
   "source": [
    "source: https://giphy.com/gifs/style-doll-SJOEsdVR1Zha8"
   ]
  }
 ],
 "metadata": {
  "celltoolbar": "Slideshow",
  "kernelspec": {
   "display_name": "R",
   "language": "R",
   "name": "ir"
  },
  "language_info": {
   "codemirror_mode": "r",
   "file_extension": ".r",
   "mimetype": "text/x-r-source",
   "name": "R",
   "pygments_lexer": "r",
   "version": "3.5.1"
  }
 },
 "nbformat": 4,
 "nbformat_minor": 2
}
