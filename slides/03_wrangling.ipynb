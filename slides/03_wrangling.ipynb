{
 "cells": [
  {
   "cell_type": "markdown",
   "metadata": {
    "slideshow": {
     "slide_type": "slide"
    }
   },
   "source": [
    "# DSCI 100 - Introduction to Data Science\n",
    "\n",
    "\n",
    "## Lecture 3 - Wrangling to get tidy data\n",
    "\n",
    "\n",
    "### 2019-09-19"
   ]
  },
  {
   "cell_type": "markdown",
   "metadata": {
    "slideshow": {
     "slide_type": "slide"
    }
   },
   "source": [
    "## Reminder  \n",
    "\n",
    "Where are we? Where are we going?\n",
    "\n",
    "![](https://d33wubrfki0l68.cloudfront.net/571b056757d68e6df81a3e3853f54d3c76ad6efc/32d37/diagrams/data-science.png)\n",
    "\n",
    "*image source: [R for Data Science](https://r4ds.had.co.nz/) by Grolemund & Wickham*"
   ]
  },
  {
   "cell_type": "markdown",
   "metadata": {
    "slideshow": {
     "slide_type": "slide"
    }
   },
   "source": [
    "## Shameless borrowing of slides from Jenny Bryan\n",
    "\n",
    "https://www.slideshare.net/Plotly/plotcon-nyc-behind-every-great-plot-theres-a-great-deal-of-wrangling"
   ]
  },
  {
   "cell_type": "markdown",
   "metadata": {
    "slideshow": {
     "slide_type": "slide"
    }
   },
   "source": [
    "<img src=\"img/whisperer.png\" width=\"700\"/>"
   ]
  },
  {
   "cell_type": "markdown",
   "metadata": {
    "slideshow": {
     "slide_type": "slide"
    }
   },
   "source": [
    "<img src=\"img/on_balcony.png\" width=\"700\"/>"
   ]
  },
  {
   "cell_type": "markdown",
   "metadata": {
    "slideshow": {
     "slide_type": "slide"
    }
   },
   "source": [
    "<img src=\"img/tame.png\" width=\"700\"/>"
   ]
  },
  {
   "cell_type": "markdown",
   "metadata": {
    "slideshow": {
     "slide_type": "slide"
    }
   },
   "source": [
    "## How should you wrangle your data? \n"
   ]
  },
  {
   "cell_type": "markdown",
   "metadata": {
    "slideshow": {
     "slide_type": "fragment"
    }
   },
   "source": [
    "## We make it \"tidy\""
   ]
  },
  {
   "cell_type": "markdown",
   "metadata": {
    "slideshow": {
     "slide_type": "slide"
    }
   },
   "source": [
    "### What is tidy data?\n",
    "\n",
    "A tidy data is one that is satified by these three criteria:\n",
    "\n",
    "- each row is a single observation,\n",
    "- each variable is a single column, and\n",
    "- each value is a single cell (i.e., its row, column position in the data frame is not shared with another value)\n",
    "\n",
    "<img src=\"https://d33wubrfki0l68.cloudfront.net/6f1ddb544fc5c69a2478e444ab8112fb0eea23f8/91adc/images/tidy-1.png\" width=\"550\" />"
   ]
  },
  {
   "cell_type": "markdown",
   "metadata": {
    "slideshow": {
     "slide_type": "fragment"
    }
   },
   "source": [
    "*Source: [R for Data Science](https://r4ds.had.co.nz/) by Garrett Grolemund & Hadley Wickham*"
   ]
  },
  {
   "cell_type": "markdown",
   "metadata": {
    "slideshow": {
     "slide_type": "slide"
    }
   },
   "source": [
    "## A tale of 4 data tables...\n",
    "\n",
    "...here is the same data represented in 4 different ways, let's vote on which are tidy"
   ]
  },
  {
   "cell_type": "markdown",
   "metadata": {
    "slideshow": {
     "slide_type": "notes"
    }
   },
   "source": [
    "*Example source: https://garrettgman.github.io/tidying/*"
   ]
  },
  {
   "cell_type": "markdown",
   "metadata": {
    "slideshow": {
     "slide_type": "slide"
    }
   },
   "source": [
    "Statistical question: What variables are associated with the number of TB cases?\n",
    "\n",
    "This data is tidy, true or false?\n",
    "\n",
    "| country | year  | rate |\n",
    "|---------|-------|---|\n",
    "| Afghanistan | 1999|      745/19987071\n",
    "|Afghanistan |2000    | 2666/20595360\n",
    "|      Brazil |1999|   37737/172006362\n",
    "|      Brazil |2000  | 80488/174504898\n",
    "|      China |1999| 212258/1272915272\n",
    "|      China |2000 |213766/1280428583"
   ]
  },
  {
   "cell_type": "markdown",
   "metadata": {
    "slideshow": {
     "slide_type": "slide"
    }
   },
   "source": [
    "Statistical question: What variables are associated with the number of TB cases?\n",
    "\n",
    "This data is tidy, true or false?\n",
    "\n",
    "\n",
    "| country | cases (year=1999) | cases (year=2000)|\n",
    "|---------|-------|-------|\n",
    "| Afghanistan |   745 |  2666\n",
    "|  Brazil | 37737 | 80488\n",
    "|  China | 212258 | 213766\n",
    "\n",
    "| country | population (year=1999) | population (year=2000)|\n",
    "|---------|-------|-------|\n",
    "| Afghanistan |  19987071 |  20595360 |\n",
    "| Brazil | 172006362 | 174504898 |\n",
    "| China | 1272915272 | 1280428583 |"
   ]
  },
  {
   "cell_type": "markdown",
   "metadata": {
    "slideshow": {
     "slide_type": "slide"
    }
   },
   "source": [
    "Statistical question: What variables are associated with the number of TB cases?\n",
    "\n",
    "This data is tidy, true or false?\n",
    "\n",
    "| country | year  | cases | population |\n",
    "|---------|-------|-------|------------|\n",
    "| Afghanistan | 1999  |  745  | 19987071|\n",
    "| Afghanistan | 2000 |  2666 |  20595360|\n",
    "|Brazil |1999 | 37737  |172006362|\n",
    "| Brazil| 2000 | 80488 | 174504898|\n",
    "| China | 1999 | 212258 |1272915272|\n",
    "|  China |2000 | 213766 | 1280428583|"
   ]
  },
  {
   "cell_type": "markdown",
   "metadata": {
    "slideshow": {
     "slide_type": "slide"
    }
   },
   "source": [
    "Statistical question: What variables are associated with the number of TB cases?\n",
    "\n",
    "This data is tidy, true or false?\n",
    "\n",
    "| country | year  | key | value |\n",
    "|---------|-------|-------|------------|\n",
    "|Afghanistan |1999 |     cases   |     745\n",
    "| Afghanistan |1999| population  | 19987071\n",
    "|  Afghanistan |2000|      cases |      2666\n",
    "|  Afghanistan| 2000| population |  20595360\n",
    "|       Brazil| 1999|      cases |     37737\n",
    "|       Brazil |1999| population | 172006362\n",
    "|       Brazil| 2000|      cases  |    80488\n",
    "|       Brazil |2000| population | 174504898\n",
    "|        China |1999|      cases  |   212258\n",
    "|       China |1999| population |1272915272\n",
    "|       China |2000|      cases |    213766\n",
    "|       China |2000| population| 1280428583"
   ]
  },
  {
   "cell_type": "markdown",
   "metadata": {
    "slideshow": {
     "slide_type": "slide"
    }
   },
   "source": [
    "## Tools for getting it there:\n",
    "\n",
    "- `tidyverse` package functions from: \n",
    "    - `dplyr` package (`select`, `filter`, `mutate`, `group_by`, `summarize`)\n",
    "    \n",
    "    - `tidyr` package (`gather`)\n",
    "    \n",
    "    - `purrr` package (`*map*`)"
   ]
  },
  {
   "cell_type": "markdown",
   "metadata": {
    "slideshow": {
     "slide_type": "slide"
    }
   },
   "source": [
    "## Another big concept this week: iteration\n",
    "\n",
    "- iteration is when you need to do something repeatedly (e.g., ringing in and bagging groceries at the till)\n",
    "\n",
    "![](https://www.ecomcrew.com/wp-content/uploads/2015/07/bar-code-scanning-grocery-store.jpg)"
   ]
  },
  {
   "cell_type": "markdown",
   "metadata": {
    "slideshow": {
     "slide_type": "slide"
    }
   },
   "source": [
    "## Tidyverse tools for iteration\n",
    "\n",
    "1. `group_by` + `summarize`\n",
    "2. `*map*` "
   ]
  },
  {
   "cell_type": "markdown",
   "metadata": {
    "slideshow": {
     "slide_type": "slide"
    }
   },
   "source": [
    "## `group_by` + `summarize`\n",
    "\n",
    "- useful when you want to do something repeatedly to a group of rows\n",
    "- an example, we want to calculate the average life expectancy (`lifeExp`) for each continent from the `gapminder` data set\n"
   ]
  },
  {
   "cell_type": "code",
   "execution_count": 1,
   "metadata": {
    "slideshow": {
     "slide_type": "fragment"
    }
   },
   "outputs": [
    {
     "name": "stderr",
     "output_type": "stream",
     "text": [
      "── \u001b[1mAttaching packages\u001b[22m ─────────────────────────────────────── tidyverse 1.2.1 ──\n",
      "\u001b[32m✔\u001b[39m \u001b[34mggplot2\u001b[39m 3.2.0     \u001b[32m✔\u001b[39m \u001b[34mpurrr  \u001b[39m 0.3.2\n",
      "\u001b[32m✔\u001b[39m \u001b[34mtibble \u001b[39m 2.1.3     \u001b[32m✔\u001b[39m \u001b[34mdplyr  \u001b[39m 0.8.3\n",
      "\u001b[32m✔\u001b[39m \u001b[34mtidyr  \u001b[39m 0.8.3     \u001b[32m✔\u001b[39m \u001b[34mstringr\u001b[39m 1.4.0\n",
      "\u001b[32m✔\u001b[39m \u001b[34mreadr  \u001b[39m 1.3.1     \u001b[32m✔\u001b[39m \u001b[34mforcats\u001b[39m 0.4.0\n",
      "── \u001b[1mConflicts\u001b[22m ────────────────────────────────────────── tidyverse_conflicts() ──\n",
      "\u001b[31m✖\u001b[39m \u001b[34mdplyr\u001b[39m::\u001b[32mfilter()\u001b[39m masks \u001b[34mstats\u001b[39m::filter()\n",
      "\u001b[31m✖\u001b[39m \u001b[34mdplyr\u001b[39m::\u001b[32mlag()\u001b[39m    masks \u001b[34mstats\u001b[39m::lag()\n",
      "Parsed with column specification:\n",
      "cols(\n",
      "  country = \u001b[31mcol_character()\u001b[39m,\n",
      "  year = \u001b[32mcol_double()\u001b[39m,\n",
      "  pop = \u001b[32mcol_double()\u001b[39m,\n",
      "  continent = \u001b[31mcol_character()\u001b[39m,\n",
      "  lifeExp = \u001b[32mcol_double()\u001b[39m,\n",
      "  gdpPercap = \u001b[32mcol_double()\u001b[39m\n",
      ")\n"
     ]
    }
   ],
   "source": [
    "library(tidyverse)\n",
    "gapminder <- read_csv(\"https://raw.githubusercontent.com/swcarpentry/r-novice-gapminder/master/data/gapminder_data.csv\")"
   ]
  },
  {
   "cell_type": "code",
   "execution_count": 2,
   "metadata": {},
   "outputs": [
    {
     "data": {
      "text/html": [
       "<table>\n",
       "<caption>A tibble: 6 × 6</caption>\n",
       "<thead>\n",
       "\t<tr><th scope=col>country</th><th scope=col>year</th><th scope=col>pop</th><th scope=col>continent</th><th scope=col>lifeExp</th><th scope=col>gdpPercap</th></tr>\n",
       "\t<tr><th scope=col>&lt;chr&gt;</th><th scope=col>&lt;dbl&gt;</th><th scope=col>&lt;dbl&gt;</th><th scope=col>&lt;chr&gt;</th><th scope=col>&lt;dbl&gt;</th><th scope=col>&lt;dbl&gt;</th></tr>\n",
       "</thead>\n",
       "<tbody>\n",
       "\t<tr><td>Afghanistan</td><td>1952</td><td> 8425333</td><td>Asia</td><td>28.801</td><td>779.4453</td></tr>\n",
       "\t<tr><td>Afghanistan</td><td>1957</td><td> 9240934</td><td>Asia</td><td>30.332</td><td>820.8530</td></tr>\n",
       "\t<tr><td>Afghanistan</td><td>1962</td><td>10267083</td><td>Asia</td><td>31.997</td><td>853.1007</td></tr>\n",
       "\t<tr><td>Afghanistan</td><td>1967</td><td>11537966</td><td>Asia</td><td>34.020</td><td>836.1971</td></tr>\n",
       "\t<tr><td>Afghanistan</td><td>1972</td><td>13079460</td><td>Asia</td><td>36.088</td><td>739.9811</td></tr>\n",
       "\t<tr><td>Afghanistan</td><td>1977</td><td>14880372</td><td>Asia</td><td>38.438</td><td>786.1134</td></tr>\n",
       "</tbody>\n",
       "</table>\n"
      ],
      "text/latex": [
       "A tibble: 6 × 6\n",
       "\\begin{tabular}{r|llllll}\n",
       " country & year & pop & continent & lifeExp & gdpPercap\\\\\n",
       " <chr> & <dbl> & <dbl> & <chr> & <dbl> & <dbl>\\\\\n",
       "\\hline\n",
       "\t Afghanistan & 1952 &  8425333 & Asia & 28.801 & 779.4453\\\\\n",
       "\t Afghanistan & 1957 &  9240934 & Asia & 30.332 & 820.8530\\\\\n",
       "\t Afghanistan & 1962 & 10267083 & Asia & 31.997 & 853.1007\\\\\n",
       "\t Afghanistan & 1967 & 11537966 & Asia & 34.020 & 836.1971\\\\\n",
       "\t Afghanistan & 1972 & 13079460 & Asia & 36.088 & 739.9811\\\\\n",
       "\t Afghanistan & 1977 & 14880372 & Asia & 38.438 & 786.1134\\\\\n",
       "\\end{tabular}\n"
      ],
      "text/markdown": [
       "\n",
       "A tibble: 6 × 6\n",
       "\n",
       "| country &lt;chr&gt; | year &lt;dbl&gt; | pop &lt;dbl&gt; | continent &lt;chr&gt; | lifeExp &lt;dbl&gt; | gdpPercap &lt;dbl&gt; |\n",
       "|---|---|---|---|---|---|\n",
       "| Afghanistan | 1952 |  8425333 | Asia | 28.801 | 779.4453 |\n",
       "| Afghanistan | 1957 |  9240934 | Asia | 30.332 | 820.8530 |\n",
       "| Afghanistan | 1962 | 10267083 | Asia | 31.997 | 853.1007 |\n",
       "| Afghanistan | 1967 | 11537966 | Asia | 34.020 | 836.1971 |\n",
       "| Afghanistan | 1972 | 13079460 | Asia | 36.088 | 739.9811 |\n",
       "| Afghanistan | 1977 | 14880372 | Asia | 38.438 | 786.1134 |\n",
       "\n"
      ],
      "text/plain": [
       "  country     year pop      continent lifeExp gdpPercap\n",
       "1 Afghanistan 1952  8425333 Asia      28.801  779.4453 \n",
       "2 Afghanistan 1957  9240934 Asia      30.332  820.8530 \n",
       "3 Afghanistan 1962 10267083 Asia      31.997  853.1007 \n",
       "4 Afghanistan 1967 11537966 Asia      34.020  836.1971 \n",
       "5 Afghanistan 1972 13079460 Asia      36.088  739.9811 \n",
       "6 Afghanistan 1977 14880372 Asia      38.438  786.1134 "
      ]
     },
     "metadata": {},
     "output_type": "display_data"
    }
   ],
   "source": [
    "head(gapminder)"
   ]
  },
  {
   "cell_type": "markdown",
   "metadata": {
    "slideshow": {
     "slide_type": "slide"
    }
   },
   "source": [
    "## First, let's filter for only 1 year, 2007\n",
    "\n"
   ]
  },
  {
   "cell_type": "code",
   "execution_count": 3,
   "metadata": {
    "slideshow": {
     "slide_type": "fragment"
    }
   },
   "outputs": [
    {
     "data": {
      "text/html": [
       "<table>\n",
       "<caption>A tibble: 6 × 6</caption>\n",
       "<thead>\n",
       "\t<tr><th scope=col>country</th><th scope=col>year</th><th scope=col>pop</th><th scope=col>continent</th><th scope=col>lifeExp</th><th scope=col>gdpPercap</th></tr>\n",
       "\t<tr><th scope=col>&lt;chr&gt;</th><th scope=col>&lt;dbl&gt;</th><th scope=col>&lt;dbl&gt;</th><th scope=col>&lt;chr&gt;</th><th scope=col>&lt;dbl&gt;</th><th scope=col>&lt;dbl&gt;</th></tr>\n",
       "</thead>\n",
       "<tbody>\n",
       "\t<tr><td>Afghanistan</td><td>2007</td><td>31889923</td><td>Asia    </td><td>43.828</td><td>  974.5803</td></tr>\n",
       "\t<tr><td>Albania    </td><td>2007</td><td> 3600523</td><td>Europe  </td><td>76.423</td><td> 5937.0295</td></tr>\n",
       "\t<tr><td>Algeria    </td><td>2007</td><td>33333216</td><td>Africa  </td><td>72.301</td><td> 6223.3675</td></tr>\n",
       "\t<tr><td>Angola     </td><td>2007</td><td>12420476</td><td>Africa  </td><td>42.731</td><td> 4797.2313</td></tr>\n",
       "\t<tr><td>Argentina  </td><td>2007</td><td>40301927</td><td>Americas</td><td>75.320</td><td>12779.3796</td></tr>\n",
       "\t<tr><td>Australia  </td><td>2007</td><td>20434176</td><td>Oceania </td><td>81.235</td><td>34435.3674</td></tr>\n",
       "</tbody>\n",
       "</table>\n"
      ],
      "text/latex": [
       "A tibble: 6 × 6\n",
       "\\begin{tabular}{r|llllll}\n",
       " country & year & pop & continent & lifeExp & gdpPercap\\\\\n",
       " <chr> & <dbl> & <dbl> & <chr> & <dbl> & <dbl>\\\\\n",
       "\\hline\n",
       "\t Afghanistan & 2007 & 31889923 & Asia     & 43.828 &   974.5803\\\\\n",
       "\t Albania     & 2007 &  3600523 & Europe   & 76.423 &  5937.0295\\\\\n",
       "\t Algeria     & 2007 & 33333216 & Africa   & 72.301 &  6223.3675\\\\\n",
       "\t Angola      & 2007 & 12420476 & Africa   & 42.731 &  4797.2313\\\\\n",
       "\t Argentina   & 2007 & 40301927 & Americas & 75.320 & 12779.3796\\\\\n",
       "\t Australia   & 2007 & 20434176 & Oceania  & 81.235 & 34435.3674\\\\\n",
       "\\end{tabular}\n"
      ],
      "text/markdown": [
       "\n",
       "A tibble: 6 × 6\n",
       "\n",
       "| country &lt;chr&gt; | year &lt;dbl&gt; | pop &lt;dbl&gt; | continent &lt;chr&gt; | lifeExp &lt;dbl&gt; | gdpPercap &lt;dbl&gt; |\n",
       "|---|---|---|---|---|---|\n",
       "| Afghanistan | 2007 | 31889923 | Asia     | 43.828 |   974.5803 |\n",
       "| Albania     | 2007 |  3600523 | Europe   | 76.423 |  5937.0295 |\n",
       "| Algeria     | 2007 | 33333216 | Africa   | 72.301 |  6223.3675 |\n",
       "| Angola      | 2007 | 12420476 | Africa   | 42.731 |  4797.2313 |\n",
       "| Argentina   | 2007 | 40301927 | Americas | 75.320 | 12779.3796 |\n",
       "| Australia   | 2007 | 20434176 | Oceania  | 81.235 | 34435.3674 |\n",
       "\n"
      ],
      "text/plain": [
       "  country     year pop      continent lifeExp gdpPercap \n",
       "1 Afghanistan 2007 31889923 Asia      43.828    974.5803\n",
       "2 Albania     2007  3600523 Europe    76.423   5937.0295\n",
       "3 Algeria     2007 33333216 Africa    72.301   6223.3675\n",
       "4 Angola      2007 12420476 Africa    42.731   4797.2313\n",
       "5 Argentina   2007 40301927 Americas  75.320  12779.3796\n",
       "6 Australia   2007 20434176 Oceania   81.235  34435.3674"
      ]
     },
     "metadata": {},
     "output_type": "display_data"
    }
   ],
   "source": [
    "library(tidyverse)\n",
    "gap_2007 <- gapminder %>% \n",
    "    filter(year == 2007)\n",
    "head(gap_2007)"
   ]
  },
  {
   "cell_type": "markdown",
   "metadata": {
    "slideshow": {
     "slide_type": "slide"
    }
   },
   "source": [
    "## Now let's use `group_by` + `summarize` to iterate\n",
    "\n",
    "Goal: calculate average life expectancy for each continent"
   ]
  },
  {
   "cell_type": "code",
   "execution_count": 4,
   "metadata": {
    "slideshow": {
     "slide_type": "fragment"
    }
   },
   "outputs": [
    {
     "data": {
      "text/html": [
       "<table>\n",
       "<caption>A tibble: 5 × 2</caption>\n",
       "<thead>\n",
       "\t<tr><th scope=col>continent</th><th scope=col>avg_lifeExp</th></tr>\n",
       "\t<tr><th scope=col>&lt;chr&gt;</th><th scope=col>&lt;dbl&gt;</th></tr>\n",
       "</thead>\n",
       "<tbody>\n",
       "\t<tr><td>Africa  </td><td>54.80604</td></tr>\n",
       "\t<tr><td>Americas</td><td>73.60812</td></tr>\n",
       "\t<tr><td>Asia    </td><td>70.72848</td></tr>\n",
       "\t<tr><td>Europe  </td><td>77.64860</td></tr>\n",
       "\t<tr><td>Oceania </td><td>80.71950</td></tr>\n",
       "</tbody>\n",
       "</table>\n"
      ],
      "text/latex": [
       "A tibble: 5 × 2\n",
       "\\begin{tabular}{r|ll}\n",
       " continent & avg\\_lifeExp\\\\\n",
       " <chr> & <dbl>\\\\\n",
       "\\hline\n",
       "\t Africa   & 54.80604\\\\\n",
       "\t Americas & 73.60812\\\\\n",
       "\t Asia     & 70.72848\\\\\n",
       "\t Europe   & 77.64860\\\\\n",
       "\t Oceania  & 80.71950\\\\\n",
       "\\end{tabular}\n"
      ],
      "text/markdown": [
       "\n",
       "A tibble: 5 × 2\n",
       "\n",
       "| continent &lt;chr&gt; | avg_lifeExp &lt;dbl&gt; |\n",
       "|---|---|\n",
       "| Africa   | 54.80604 |\n",
       "| Americas | 73.60812 |\n",
       "| Asia     | 70.72848 |\n",
       "| Europe   | 77.64860 |\n",
       "| Oceania  | 80.71950 |\n",
       "\n"
      ],
      "text/plain": [
       "  continent avg_lifeExp\n",
       "1 Africa    54.80604   \n",
       "2 Americas  73.60812   \n",
       "3 Asia      70.72848   \n",
       "4 Europe    77.64860   \n",
       "5 Oceania   80.71950   "
      ]
     },
     "metadata": {},
     "output_type": "display_data"
    }
   ],
   "source": [
    "avg_lifeExp_2007 <- gap_2007 %>% \n",
    "    group_by(continent) %>% \n",
    "    summarize(avg_lifeExp = mean(lifeExp))\n",
    "avg_lifeExp_2007"
   ]
  },
  {
   "cell_type": "markdown",
   "metadata": {
    "slideshow": {
     "slide_type": "slide"
    }
   },
   "source": [
    "## `*map*` \n",
    "\n",
    "- useful when you want to do something repeatedly to almost anything (we'll give the example of columns in a data frame)\n",
    "- an example, we want to calculate the average value for each column from the `USAarrests` data to get the average across all US states"
   ]
  },
  {
   "cell_type": "code",
   "execution_count": 5,
   "metadata": {
    "scrolled": true,
    "slideshow": {
     "slide_type": "fragment"
    }
   },
   "outputs": [
    {
     "data": {
      "text/html": [
       "<table>\n",
       "<caption>A data.frame: 6 × 4</caption>\n",
       "<thead>\n",
       "\t<tr><th></th><th scope=col>Murder</th><th scope=col>Assault</th><th scope=col>UrbanPop</th><th scope=col>Rape</th></tr>\n",
       "\t<tr><th></th><th scope=col>&lt;dbl&gt;</th><th scope=col>&lt;int&gt;</th><th scope=col>&lt;int&gt;</th><th scope=col>&lt;dbl&gt;</th></tr>\n",
       "</thead>\n",
       "<tbody>\n",
       "\t<tr><th scope=row>Alabama</th><td>13.2</td><td>236</td><td>58</td><td>21.2</td></tr>\n",
       "\t<tr><th scope=row>Alaska</th><td>10.0</td><td>263</td><td>48</td><td>44.5</td></tr>\n",
       "\t<tr><th scope=row>Arizona</th><td> 8.1</td><td>294</td><td>80</td><td>31.0</td></tr>\n",
       "\t<tr><th scope=row>Arkansas</th><td> 8.8</td><td>190</td><td>50</td><td>19.5</td></tr>\n",
       "\t<tr><th scope=row>California</th><td> 9.0</td><td>276</td><td>91</td><td>40.6</td></tr>\n",
       "\t<tr><th scope=row>Colorado</th><td> 7.9</td><td>204</td><td>78</td><td>38.7</td></tr>\n",
       "</tbody>\n",
       "</table>\n"
      ],
      "text/latex": [
       "A data.frame: 6 × 4\n",
       "\\begin{tabular}{r|llll}\n",
       "  & Murder & Assault & UrbanPop & Rape\\\\\n",
       "  & <dbl> & <int> & <int> & <dbl>\\\\\n",
       "\\hline\n",
       "\tAlabama & 13.2 & 236 & 58 & 21.2\\\\\n",
       "\tAlaska & 10.0 & 263 & 48 & 44.5\\\\\n",
       "\tArizona &  8.1 & 294 & 80 & 31.0\\\\\n",
       "\tArkansas &  8.8 & 190 & 50 & 19.5\\\\\n",
       "\tCalifornia &  9.0 & 276 & 91 & 40.6\\\\\n",
       "\tColorado &  7.9 & 204 & 78 & 38.7\\\\\n",
       "\\end{tabular}\n"
      ],
      "text/markdown": [
       "\n",
       "A data.frame: 6 × 4\n",
       "\n",
       "| <!--/--> | Murder &lt;dbl&gt; | Assault &lt;int&gt; | UrbanPop &lt;int&gt; | Rape &lt;dbl&gt; |\n",
       "|---|---|---|---|---|\n",
       "| Alabama | 13.2 | 236 | 58 | 21.2 |\n",
       "| Alaska | 10.0 | 263 | 48 | 44.5 |\n",
       "| Arizona |  8.1 | 294 | 80 | 31.0 |\n",
       "| Arkansas |  8.8 | 190 | 50 | 19.5 |\n",
       "| California |  9.0 | 276 | 91 | 40.6 |\n",
       "| Colorado |  7.9 | 204 | 78 | 38.7 |\n",
       "\n"
      ],
      "text/plain": [
       "           Murder Assault UrbanPop Rape\n",
       "Alabama    13.2   236     58       21.2\n",
       "Alaska     10.0   263     48       44.5\n",
       "Arizona     8.1   294     80       31.0\n",
       "Arkansas    8.8   190     50       19.5\n",
       "California  9.0   276     91       40.6\n",
       "Colorado    7.9   204     78       38.7"
      ]
     },
     "metadata": {},
     "output_type": "display_data"
    }
   ],
   "source": [
    "head(USArrests)"
   ]
  },
  {
   "cell_type": "markdown",
   "metadata": {
    "slideshow": {
     "slide_type": "slide"
    }
   },
   "source": [
    "## use `*map*` to iterate"
   ]
  },
  {
   "cell_type": "code",
   "execution_count": 6,
   "metadata": {
    "slideshow": {
     "slide_type": "fragment"
    }
   },
   "outputs": [
    {
     "data": {
      "text/html": [
       "<dl>\n",
       "\t<dt>$Murder</dt>\n",
       "\t\t<dd>7.788</dd>\n",
       "\t<dt>$Assault</dt>\n",
       "\t\t<dd>170.76</dd>\n",
       "\t<dt>$UrbanPop</dt>\n",
       "\t\t<dd>65.54</dd>\n",
       "\t<dt>$Rape</dt>\n",
       "\t\t<dd>21.232</dd>\n",
       "</dl>\n"
      ],
      "text/latex": [
       "\\begin{description}\n",
       "\\item[\\$Murder] 7.788\n",
       "\\item[\\$Assault] 170.76\n",
       "\\item[\\$UrbanPop] 65.54\n",
       "\\item[\\$Rape] 21.232\n",
       "\\end{description}\n"
      ],
      "text/markdown": [
       "$Murder\n",
       ":   7.788\n",
       "$Assault\n",
       ":   170.76\n",
       "$UrbanPop\n",
       ":   65.54\n",
       "$Rape\n",
       ":   21.232\n",
       "\n",
       "\n"
      ],
      "text/plain": [
       "$Murder\n",
       "[1] 7.788\n",
       "\n",
       "$Assault\n",
       "[1] 170.76\n",
       "\n",
       "$UrbanPop\n",
       "[1] 65.54\n",
       "\n",
       "$Rape\n",
       "[1] 21.232\n"
      ]
     },
     "metadata": {},
     "output_type": "display_data"
    }
   ],
   "source": [
    "USavg <- map(USArrests, mean)\n",
    "USavg"
   ]
  },
  {
   "cell_type": "markdown",
   "metadata": {
    "slideshow": {
     "slide_type": "fragment"
    }
   },
   "source": [
    "But why isn't our output a data frame? "
   ]
  },
  {
   "cell_type": "markdown",
   "metadata": {
    "slideshow": {
     "slide_type": "slide"
    }
   },
   "source": [
    "##  `*map*` functions output depends on which function you use...\n",
    "\n",
    "| `map` function | Output |\n",
    "|----------|--------|\n",
    "| `map()` | list |\n",
    "| `map_lgl()` | logical vector |\n",
    "| `map_int()` | integer vector |\n",
    "| `map_dbl()` | double vector |\n",
    "| `map_chr()` | character vector |\n",
    "| `map_df()` | data frame |"
   ]
  },
  {
   "cell_type": "markdown",
   "metadata": {
    "slideshow": {
     "slide_type": "slide"
    }
   },
   "source": [
    "## use `map_df` instead:"
   ]
  },
  {
   "cell_type": "code",
   "execution_count": 7,
   "metadata": {
    "slideshow": {
     "slide_type": "fragment"
    }
   },
   "outputs": [
    {
     "data": {
      "text/html": [
       "<table>\n",
       "<caption>A tibble: 1 × 4</caption>\n",
       "<thead>\n",
       "\t<tr><th scope=col>Murder</th><th scope=col>Assault</th><th scope=col>UrbanPop</th><th scope=col>Rape</th></tr>\n",
       "\t<tr><th scope=col>&lt;dbl&gt;</th><th scope=col>&lt;dbl&gt;</th><th scope=col>&lt;dbl&gt;</th><th scope=col>&lt;dbl&gt;</th></tr>\n",
       "</thead>\n",
       "<tbody>\n",
       "\t<tr><td>7.788</td><td>170.76</td><td>65.54</td><td>21.232</td></tr>\n",
       "</tbody>\n",
       "</table>\n"
      ],
      "text/latex": [
       "A tibble: 1 × 4\n",
       "\\begin{tabular}{r|llll}\n",
       " Murder & Assault & UrbanPop & Rape\\\\\n",
       " <dbl> & <dbl> & <dbl> & <dbl>\\\\\n",
       "\\hline\n",
       "\t 7.788 & 170.76 & 65.54 & 21.232\\\\\n",
       "\\end{tabular}\n"
      ],
      "text/markdown": [
       "\n",
       "A tibble: 1 × 4\n",
       "\n",
       "| Murder &lt;dbl&gt; | Assault &lt;dbl&gt; | UrbanPop &lt;dbl&gt; | Rape &lt;dbl&gt; |\n",
       "|---|---|---|---|\n",
       "| 7.788 | 170.76 | 65.54 | 21.232 |\n",
       "\n"
      ],
      "text/plain": [
       "  Murder Assault UrbanPop Rape  \n",
       "1 7.788  170.76  65.54    21.232"
      ]
     },
     "metadata": {},
     "output_type": "display_data"
    }
   ],
   "source": [
    "USavg <- map_df(USArrests, mean)\n",
    "USavg"
   ]
  },
  {
   "cell_type": "markdown",
   "metadata": {
    "slideshow": {
     "slide_type": "slide"
    }
   },
   "source": [
    "## Go forth and wrangle!\n",
    "\n",
    "we'll be here to help if you need it!\n",
    "\n",
    "<img align=\"left\" src=\"https://media.giphy.com/media/Qgm6tIYrSQqC4/giphy.gif\">\n",
    "\n"
   ]
  },
  {
   "cell_type": "markdown",
   "metadata": {
    "slideshow": {
     "slide_type": "fragment"
    }
   },
   "source": [
    "*image source: https://media.giphy.com/media/Qgm6tIYrSQqC4/giphy-downsized-large.gif*"
   ]
  },
  {
   "cell_type": "markdown",
   "metadata": {
    "slideshow": {
     "slide_type": "slide"
    }
   },
   "source": [
    "## Class activity 1\n",
    "\n",
    "Calculate the mean petal length for each of the Iris (flower) species in the `iris` dataset. Post your answer on Piazza when you are done."
   ]
  },
  {
   "cell_type": "code",
   "execution_count": null,
   "metadata": {
    "slideshow": {
     "slide_type": "fragment"
    }
   },
   "outputs": [],
   "source": []
  },
  {
   "cell_type": "markdown",
   "metadata": {
    "slideshow": {
     "slide_type": "slide"
    }
   },
   "source": [
    "## Class activity 2\n",
    "\n",
    "Use `map_df` to caclulate the mean of each of the numerical columns in the `iris` dataset. Post your answer on Piazza when you are done."
   ]
  },
  {
   "cell_type": "code",
   "execution_count": null,
   "metadata": {
    "slideshow": {
     "slide_type": "fragment"
    }
   },
   "outputs": [],
   "source": []
  },
  {
   "cell_type": "markdown",
   "metadata": {
    "slideshow": {
     "slide_type": "slide"
    }
   },
   "source": [
    "## What did we learn?\n",
    "\n",
    "- \n",
    "- \n",
    "- \n",
    "\n",
    "\n",
    "\n"
   ]
  }
 ],
 "metadata": {
  "celltoolbar": "Slideshow",
  "kernelspec": {
   "display_name": "R",
   "language": "R",
   "name": "ir"
  },
  "language_info": {
   "codemirror_mode": "r",
   "file_extension": ".r",
   "mimetype": "text/x-r-source",
   "name": "R",
   "pygments_lexer": "r",
   "version": "3.6.1"
  }
 },
 "nbformat": 4,
 "nbformat_minor": 2
}
