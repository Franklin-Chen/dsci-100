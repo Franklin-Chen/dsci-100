{
 "cells": [
  {
   "cell_type": "markdown",
   "metadata": {
    "slideshow": {
     "slide_type": "slide"
    }
   },
   "source": [
    "## DSCI 100 - Introduction to Data Science\n",
    "\n",
    "\n",
    "### Lecture 11 - Introduction to Clustering\n",
    "\n",
    "#### 2019-03-28"
   ]
  },
  {
   "cell_type": "code",
   "execution_count": 12,
   "metadata": {
    "slideshow": {
     "slide_type": "skip"
    }
   },
   "outputs": [],
   "source": [
    "library(tidyverse)"
   ]
  },
  {
   "cell_type": "markdown",
   "metadata": {
    "slideshow": {
     "slide_type": "slide"
    }
   },
   "source": [
    "## A quick refersher of previous topics!"
   ]
  },
  {
   "cell_type": "markdown",
   "metadata": {
    "slideshow": {
     "slide_type": "slide"
    }
   },
   "source": [
    "## Supervised Learning\n",
    "- A Machine learning task of training a model on **labeled** data which can be used to predict an output.\n"
   ]
  },
  {
   "cell_type": "markdown",
   "metadata": {
    "slideshow": {
     "slide_type": "subslide"
    }
   },
   "source": [
    "### Classification\n",
    "Example Problems:\n",
    "- Predicting type of fruit\n",
    "- Predicting Yes/No to kidney disease\n",
    "- Predicting credit card fraud\n",
    "\n",
    "DSCI 100 Alogrithms:\n",
    "- KNN classification"
   ]
  },
  {
   "cell_type": "markdown",
   "metadata": {
    "slideshow": {
     "slide_type": "subslide"
    }
   },
   "source": [
    "### Regression\n",
    "Example Problems:\n",
    "- Predicting house prices\n",
    "- Predicting movie box office sales\n",
    "- Predicting Olympic medal count\n",
    "\n",
    "DSCI 100 Algorithms:\n",
    "- KNN Regression\n",
    "- Linear Regression"
   ]
  },
  {
   "cell_type": "markdown",
   "metadata": {
    "slideshow": {
     "slide_type": "slide"
    }
   },
   "source": [
    "## Now let's consider a different type of Machine Learning!\n",
    "\n"
   ]
  },
  {
   "cell_type": "markdown",
   "metadata": {
    "slideshow": {
     "slide_type": "slide"
    }
   },
   "source": [
    "## Unsupervised Learning\n",
    "- A Machine learning task of finding structure and patterns in **unlabeled** data.\n"
   ]
  },
  {
   "cell_type": "code",
   "execution_count": 11,
   "metadata": {
    "slideshow": {
     "slide_type": "fragment"
    }
   },
   "outputs": [
    {
     "data": {
      "text/html": [
       "<table>\n",
       "<thead><tr><th scope=col>Sepal.Length</th><th scope=col>Sepal.Width</th><th scope=col>Petal.Length</th><th scope=col>Petal.Width</th><th scope=col>Species</th></tr></thead>\n",
       "<tbody>\n",
       "\t<tr><td>6.7       </td><td>3.3       </td><td>5.7       </td><td>2.1       </td><td>virginica </td></tr>\n",
       "\t<tr><td>6.6       </td><td>2.9       </td><td>4.6       </td><td>1.3       </td><td>versicolor</td></tr>\n",
       "\t<tr><td>4.8       </td><td>3.0       </td><td>1.4       </td><td>0.1       </td><td>setosa    </td></tr>\n",
       "\t<tr><td>7.7       </td><td>2.8       </td><td>6.7       </td><td>2.0       </td><td>virginica </td></tr>\n",
       "\t<tr><td>6.9       </td><td>3.1       </td><td>5.4       </td><td>2.1       </td><td>virginica </td></tr>\n",
       "</tbody>\n",
       "</table>\n"
      ],
      "text/latex": [
       "\\begin{tabular}{r|lllll}\n",
       " Sepal.Length & Sepal.Width & Petal.Length & Petal.Width & Species\\\\\n",
       "\\hline\n",
       "\t 6.7        & 3.3        & 5.7        & 2.1        & virginica \\\\\n",
       "\t 6.6        & 2.9        & 4.6        & 1.3        & versicolor\\\\\n",
       "\t 4.8        & 3.0        & 1.4        & 0.1        & setosa    \\\\\n",
       "\t 7.7        & 2.8        & 6.7        & 2.0        & virginica \\\\\n",
       "\t 6.9        & 3.1        & 5.4        & 2.1        & virginica \\\\\n",
       "\\end{tabular}\n"
      ],
      "text/markdown": [
       "\n",
       "| Sepal.Length | Sepal.Width | Petal.Length | Petal.Width | Species |\n",
       "|---|---|---|---|---|\n",
       "| 6.7        | 3.3        | 5.7        | 2.1        | virginica  |\n",
       "| 6.6        | 2.9        | 4.6        | 1.3        | versicolor |\n",
       "| 4.8        | 3.0        | 1.4        | 0.1        | setosa     |\n",
       "| 7.7        | 2.8        | 6.7        | 2.0        | virginica  |\n",
       "| 6.9        | 3.1        | 5.4        | 2.1        | virginica  |\n",
       "\n"
      ],
      "text/plain": [
       "  Sepal.Length Sepal.Width Petal.Length Petal.Width Species   \n",
       "1 6.7          3.3         5.7          2.1         virginica \n",
       "2 6.6          2.9         4.6          1.3         versicolor\n",
       "3 4.8          3.0         1.4          0.1         setosa    \n",
       "4 7.7          2.8         6.7          2.0         virginica \n",
       "5 6.9          3.1         5.4          2.1         virginica "
      ]
     },
     "metadata": {},
     "output_type": "display_data"
    }
   ],
   "source": [
    "sample_n(iris, size = 5)"
   ]
  },
  {
   "cell_type": "markdown",
   "metadata": {
    "slideshow": {
     "slide_type": "slide"
    }
   },
   "source": [
    "## Clustering\n",
    "- Within the Unsupervised world, the task of grouping objects that are similar to each other is called Clustering"
   ]
  },
  {
   "cell_type": "markdown",
   "metadata": {
    "slideshow": {
     "slide_type": "fragment"
    }
   },
   "source": [
    "### Examples  \n",
    "\n",
    "Clustering similar People (Market segmentation) or similar Movies\n",
    "<img align=\"left\" src=\"img/netflix.png\" width=\"600\"/> "
   ]
  },
  {
   "cell_type": "markdown",
   "metadata": {
    "slideshow": {
     "slide_type": "fragment"
    }
   },
   "source": [
    "Clustering similar products   \n",
    "<img align=\"left\" src=\"img/amazon.png\" width=\"600\"/> "
   ]
  },
  {
   "cell_type": "markdown",
   "metadata": {
    "slideshow": {
     "slide_type": "slide"
    }
   },
   "source": [
    "## Quick Test by show of hands! (hands up for clustering problem)\n",
    "\n",
    "1. Estimate the score a student will get on the MCAT\n",
    "2. Determine if there are patterns in the people who take the MCAT\n",
    "3. Separate photos into groups based on the location the photo was taken\n",
    "4. Separate photos into 5 distinct piles"
   ]
  },
  {
   "cell_type": "markdown",
   "metadata": {
    "slideshow": {
     "slide_type": "slide"
    }
   },
   "source": [
    "## Quick Test - Answers\n",
    "\n",
    "1. Estimate the score a student will get on the MCAT <span style=\"color:red\"> -**Regression** </span>\n",
    "2. Determine if there are patterns in the people who take the MCAT <span style=\"color:red\"> -**Clustering** </span>\n",
    "3. Separate photos into groups based on the location the photo was taken<span style=\"color:red\"> -**Classification** </span>\n",
    "4. Separate photos into 5 distinct piles<span style=\"color:red\"> -**Clustering** </span>"
   ]
  },
  {
   "cell_type": "markdown",
   "metadata": {
    "slideshow": {
     "slide_type": "slide"
    }
   },
   "source": [
    "## K - Means Clustering algorithm\n",
    "\n",
    "1. Specify k number of clusters to group the observations\n",
    "2. Initialize cluster assignments by randomization\n",
    "3. Calculate average coordinates for each cluster center\n",
    "4. Label clusters based on distances from the cluster center\n",
    "5. Recalcualte average coordinates for each cluster center given the new labels\n",
    "6. Repeat steps 4 and 5 until there is no change in the labels\n"
   ]
  },
  {
   "cell_type": "markdown",
   "metadata": {
    "slideshow": {
     "slide_type": "fragment"
    }
   },
   "source": [
    "### Best to see an example! Let's consider the Iris Dataset assuming we did not know the Species Labels. "
   ]
  },
  {
   "cell_type": "markdown",
   "metadata": {
    "slideshow": {
     "slide_type": "fragment"
    }
   },
   "source": [
    "#### Note: Clustering can be done with many features, but for ease of visualization we will focus on making groups using just two features (Sepal.Width and Sepal.Length)"
   ]
  },
  {
   "cell_type": "markdown",
   "metadata": {
    "slideshow": {
     "slide_type": "slide"
    }
   },
   "source": [
    "\n",
    "<img align=\"left\" src=\"img/kmeans-1.png\" width=\"600\"/> \n"
   ]
  },
  {
   "cell_type": "markdown",
   "metadata": {
    "slideshow": {
     "slide_type": "slide"
    }
   },
   "source": [
    "<img align=\"left\" src=\"img/kmeans-2.png\" width=\"600\"/> "
   ]
  },
  {
   "cell_type": "markdown",
   "metadata": {
    "slideshow": {
     "slide_type": "slide"
    }
   },
   "source": [
    "<img align=\"left\" src=\"img/kmeans-3.png\" width=\"600\"/> "
   ]
  },
  {
   "cell_type": "markdown",
   "metadata": {
    "slideshow": {
     "slide_type": "slide"
    }
   },
   "source": [
    "<img align=\"left\" src=\"img/kmeans-4.png\" width=\"600\"/> "
   ]
  },
  {
   "cell_type": "markdown",
   "metadata": {
    "slideshow": {
     "slide_type": "slide"
    }
   },
   "source": [
    "<img align=\"left\" src=\"img/kmeans-5.png\" width=\"600\"/> "
   ]
  },
  {
   "cell_type": "markdown",
   "metadata": {
    "slideshow": {
     "slide_type": "slide"
    }
   },
   "source": [
    "<img align=\"left\" src=\"img/kmeans-6.png\" width=\"600\"/> "
   ]
  },
  {
   "cell_type": "markdown",
   "metadata": {
    "slideshow": {
     "slide_type": "slide"
    }
   },
   "source": [
    "<img align=\"left\" src=\"img/kmeans-7.png\" width=\"600\"/> "
   ]
  },
  {
   "cell_type": "markdown",
   "metadata": {
    "slideshow": {
     "slide_type": "slide"
    }
   },
   "source": [
    "<img align=\"left\" src=\"img/kmeans-8.png\" width=\"600\"/> "
   ]
  },
  {
   "cell_type": "markdown",
   "metadata": {
    "slideshow": {
     "slide_type": "slide"
    }
   },
   "source": [
    "<img align=\"left\" src=\"img/kmeans-9.png\" width=\"600\"/> "
   ]
  },
  {
   "cell_type": "markdown",
   "metadata": {
    "slideshow": {
     "slide_type": "slide"
    }
   },
   "source": [
    "<img align=\"left\" src=\"img/kmeans-10.png\" width=\"600\"/> "
   ]
  },
  {
   "cell_type": "markdown",
   "metadata": {
    "slideshow": {
     "slide_type": "slide"
    }
   },
   "source": [
    "<img align=\"left\" src=\"img/kmeans-11.png\" width=\"600\"/> "
   ]
  },
  {
   "cell_type": "markdown",
   "metadata": {
    "slideshow": {
     "slide_type": "slide"
    }
   },
   "source": [
    "<img align=\"left\" src=\"img/kmeans-12.png\" width=\"600\"/> "
   ]
  },
  {
   "cell_type": "markdown",
   "metadata": {
    "slideshow": {
     "slide_type": "slide"
    }
   },
   "source": [
    "<img align=\"left\" src=\"img/kmeans-13.png\" width=\"600\"/> "
   ]
  },
  {
   "cell_type": "markdown",
   "metadata": {
    "slideshow": {
     "slide_type": "slide"
    }
   },
   "source": [
    "![](img/kmeans_motion-1.gif)"
   ]
  },
  {
   "cell_type": "markdown",
   "metadata": {
    "slideshow": {
     "slide_type": "slide"
    }
   },
   "source": [
    "## Model Selection\n",
    "\n",
    "\n",
    "- total within-cluster sum of squares\n",
    "- Elbow plot"
   ]
  },
  {
   "cell_type": "markdown",
   "metadata": {
    "slideshow": {
     "slide_type": "slide"
    }
   },
   "source": [
    "## Reproducibility"
   ]
  },
  {
   "cell_type": "markdown",
   "metadata": {
    "slideshow": {
     "slide_type": "slide"
    }
   },
   "source": [
    "### What did we learn today?\n",
    "\n",
    "- \n",
    "- \n",
    "- \n"
   ]
  }
 ],
 "metadata": {
  "celltoolbar": "Slideshow",
  "kernelspec": {
   "display_name": "R",
   "language": "R",
   "name": "ir"
  },
  "language_info": {
   "codemirror_mode": "r",
   "file_extension": ".r",
   "mimetype": "text/x-r-source",
   "name": "R",
   "pygments_lexer": "r",
   "version": "3.5.2"
  }
 },
 "nbformat": 4,
 "nbformat_minor": 2
}
